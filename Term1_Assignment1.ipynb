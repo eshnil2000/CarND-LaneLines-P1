{
 "cells": [
  {
   "cell_type": "code",
   "execution_count": 1,
   "metadata": {},
   "outputs": [],
   "source": [
    "#importing some useful packages\n",
    "import matplotlib.pyplot as plt\n",
    "import matplotlib.image as mpimg\n",
    "import numpy as np\n",
    "import cv2\n",
    "%matplotlib inline"
   ]
  },
  {
   "cell_type": "code",
   "execution_count": 204,
   "metadata": {},
   "outputs": [],
   "source": [
    "#Helper Functions , with the modified draw_lines() function\n",
    "import math\n",
    "\n",
    "def grayscale(img):\n",
    "    \"\"\"Applies the Grayscale transform\n",
    "    This will return an image with only one color channel\n",
    "    but NOTE: to see the returned image as grayscale\n",
    "    (assuming your grayscaled image is called 'gray')\n",
    "    you should call plt.imshow(gray, cmap='gray')\"\"\"\n",
    "    return cv2.cvtColor(img, cv2.COLOR_RGB2GRAY)\n",
    "    # Or use BGR2GRAY if you read an image with cv2.imread()\n",
    "    # return cv2.cvtColor(img, cv2.COLOR_BGR2GRAY)\n",
    "    \n",
    "def canny(img, low_threshold, high_threshold):\n",
    "    \"\"\"Applies the Canny transform\"\"\"\n",
    "    return cv2.Canny(img, low_threshold, high_threshold)\n",
    "\n",
    "def gaussian_blur(img, kernel_size):\n",
    "    \"\"\"Applies a Gaussian Noise kernel\"\"\"\n",
    "    return cv2.GaussianBlur(img, (kernel_size, kernel_size), 0)\n",
    "\n",
    "def region_of_interest(img, vertices):\n",
    "    \"\"\"\n",
    "    Applies an image mask.\n",
    "    \n",
    "    Only keeps the region of the image defined by the polygon\n",
    "    formed from `vertices`. The rest of the image is set to black.\n",
    "    \"\"\"\n",
    "    #defining a blank mask to start with\n",
    "    mask = np.zeros_like(img)   \n",
    "    \n",
    "    #defining a 3 channel or 1 channel color to fill the mask with depending on the input image\n",
    "    if len(img.shape) > 2:\n",
    "        channel_count = img.shape[2]  # i.e. 3 or 4 depending on your image\n",
    "        ignore_mask_color = (255,) * channel_count\n",
    "    else:\n",
    "        ignore_mask_color = 255\n",
    "        \n",
    "    #filling pixels inside the polygon defined by \"vertices\" with the fill color    \n",
    "    cv2.fillPoly(mask, vertices, ignore_mask_color)\n",
    "    \n",
    "    #returning the image only where mask pixels are nonzero\n",
    "    masked_image = cv2.bitwise_and(img, mask)\n",
    "    return masked_image\n",
    "\n",
    "\n",
    "def draw_lines_original(img, lines, color=[255, 0, 0], thickness=2):\n",
    "    \"\"\"\n",
    "    NOTE: this is the function you might want to use as a starting point once you want to \n",
    "    average/extrapolate the line segments you detect to map out the full\n",
    "    extent of the lane (going from the result shown in raw-lines-example.mp4\n",
    "    to that shown in P1_example.mp4).  \n",
    "    \n",
    "    Think about things like separating line segments by their \n",
    "    slope ((y2-y1)/(x2-x1)) to decide which segments are part of the left\n",
    "    line vs. the right line.  Then, you can average the position of each of \n",
    "    the lines and extrapolate to the top and bottom of the lane.\n",
    "    \n",
    "    This function draws `lines` with `color` and `thickness`.    \n",
    "    Lines are drawn on the image inplace (mutates the image).\n",
    "    If you want to make the lines semi-transparent, think about combining\n",
    "    this function with the weighted_img() function below\n",
    "    \"\"\"\n",
    "    for line in lines:\n",
    "        for x1,y1,x2,y2 in line:\n",
    "            cv2.line(img, (x1, y1), (x2, y2), color, thickness)\n",
    "    \n",
    "def draw_lines(img, lines, color=[255, 0, 0], thickness=2):\n",
    "\n",
    "    ##LOGIC: Built on the original draw_lines_original function\n",
    "    # Divide the lines into Left Lane & Right Lane lines based on their slope values\n",
    "    # Fit a line equation to the left lane lines and another one to the right lane lines\n",
    "    # Start the lines from the bottom of the image, or the maximum Y value of the image.\n",
    "    # End the lines at the top where you find the mimimum Y value corresponding to the maximum X value for the left lane\n",
    "    # Vice versa for the right lane\n",
    "    # Draw these solid lines onto the blank canvas passed into the function\n",
    "    \n",
    "    image=img\n",
    "    # Initialise arrays\n",
    "    left_lane_points_x = []\n",
    "    left_lane_points_y = []\n",
    "\n",
    "    right_lane_points_x = []\n",
    "    right_lane_points_y = []\n",
    "\n",
    "    #plt.imshow(line_img, cmap=\"gray\")\n",
    "    for line in lines:\n",
    "        for x1,y1,x2,y2 in line:\n",
    "            slope = (y2-y1)/(x2-x1)\n",
    "            length = np.sqrt((y2-y1)*(y2-y1)+(x2-x1)*(x2-x1))\n",
    "            if x1==x2 or y1==y2:\n",
    "            \n",
    "                continue #ignore vertical & horizontal lines\n",
    "\n",
    "            if (not math.isnan(slope) and slope !=0):\n",
    "                #print(slope)\n",
    "                #Note: the Y axis is inverted, so +ve slope in image is actually -ve slope on normal axis\n",
    "                if slope <0:\n",
    "\n",
    "                    left_lane_points_x.append(x1)\n",
    "                    left_lane_points_x.append(x2)\n",
    "\n",
    "                    left_lane_points_y.append(y1)\n",
    "                    left_lane_points_y.append(y2)\n",
    "\n",
    "                    #print(\">0\",slope,left_lane_points)\n",
    "\n",
    "                if slope >0:\n",
    "\n",
    "                    right_lane_points_x.append(x1)\n",
    "                    right_lane_points_x.append(x2)\n",
    "\n",
    "                    right_lane_points_y.append(y1)\n",
    "                    right_lane_points_y.append(y2)\n",
    "\n",
    "    if len(left_lane_points_x) !=0 and len(right_lane_points_x) !=0:\n",
    "        \n",
    "        left_lane=np.polyfit(left_lane_points_x,left_lane_points_y,1)  \n",
    "        right_lane=np.polyfit(right_lane_points_x,right_lane_points_y,1)  \n",
    "        bottom_of_image_y=image.shape[0]\n",
    "        \n",
    "        left_lane_max_y=bottom_of_image_y\n",
    "        left_lane_min_x=(left_lane_max_y-left_lane[1])/left_lane[0]\n",
    "        \n",
    "\n",
    "        left_lane_max_x=np.max(left_lane_points_x)\n",
    "        left_lane_min_y=left_lane[0]*left_lane_max_x+left_lane[1]\n",
    "\n",
    "        right_lane_min_x=np.min(right_lane_points_x)\n",
    "        right_lane_min_y=right_lane[0]*right_lane_min_x+right_lane[1]\n",
    "\n",
    "        #right_lane_max_x=np.max(right_lane_points_x)\n",
    "        right_lane_max_y=bottom_of_image_y\n",
    "        right_lane_max_x= (right_lane_max_y-right_lane[1])/right_lane[0]\n",
    "        \n",
    "        #print(\"left lane bottom\",left_lane_min_x,left_lane_max_y)\n",
    "        #print(\"left lane top\",left_lane_max_x,left_lane_min_y)\n",
    "\n",
    "        #print(\"right lane bottom\",right_lane_max_x,right_lane_max_y)\n",
    "        #print(\"right lane top\",right_lane_min_x,right_lane_min_y)\n",
    "\n",
    "        #line_img = np.zeros((image.shape[0], image.shape[1], 3), dtype=np.uint8)\n",
    "        color=[255,0,0]\n",
    "        thickness=4\n",
    "\n",
    "        cv2.line(img, (int(left_lane_min_x), int(left_lane_max_y)), (int(left_lane_max_x), int(left_lane_min_y)), color, thickness)\n",
    "        cv2.line(img, (int(right_lane_max_x), int(right_lane_max_y)), (int(right_lane_min_x), int(right_lane_min_y)), color, thickness)\n",
    "        #return img\n",
    "    \n",
    "    \n",
    "def hough_lines(img, rho, theta, threshold, min_line_len, max_line_gap):\n",
    "    \"\"\"\n",
    "    `img` should be the output of a Canny transform.\n",
    "        \n",
    "    Returns an image with hough lines drawn.\n",
    "    \"\"\"\n",
    "    lines = cv2.HoughLinesP(img, rho, theta, threshold, np.array([]), minLineLength=min_line_len, maxLineGap=max_line_gap)\n",
    "    line_img = np.zeros((img.shape[0], img.shape[1], 3), dtype=np.uint8)\n",
    "    draw_lines(line_img, lines)\n",
    "    return line_img\n",
    "\n",
    "# Python 3 has support for cool math symbols.\n",
    "\n",
    "def weighted_img(img, initial_img, α=0.8, β=1., λ=0.):\n",
    "    \"\"\"\n",
    "    `img` is the output of the hough_lines(), An image with lines drawn on it.\n",
    "    Should be a blank image (all black) with lines drawn on it.\n",
    "    \n",
    "    `initial_img` should be the image before any processing.\n",
    "    \n",
    "    The result image is computed as follows:\n",
    "    \n",
    "    initial_img * α + img * β + λ\n",
    "    NOTE: initial_img and img must be the same shape!\n",
    "    \"\"\"\n",
    "    return cv2.addWeighted(initial_img, α, img, β, λ)"
   ]
  },
  {
   "cell_type": "code",
   "execution_count": 131,
   "metadata": {},
   "outputs": [
    {
     "data": {
      "text/plain": [
       "['solidWhiteCurve.jpg',\n",
       " 'solidWhiteRight.jpg',\n",
       " 'solidYellowCurve.jpg',\n",
       " 'solidYellowCurve2.jpg',\n",
       " 'solidYellowLeft.jpg',\n",
       " 'whiteCarLaneSwitch.jpg']"
      ]
     },
     "execution_count": 131,
     "metadata": {},
     "output_type": "execute_result"
    }
   ],
   "source": [
    "import os\n",
    "os.listdir(\"test_images/\")"
   ]
  },
  {
   "cell_type": "code",
   "execution_count": 210,
   "metadata": {},
   "outputs": [],
   "source": [
    "#The pipeline, converted to a convenient function that can be passed for video processing\n",
    "def detect_lane_lines(image):\n",
    "    #This function implements the entire pipeline.\n",
    "    #0. First, filter out and keep only yellow & white images.\n",
    "    #1. Convert image to grayscale\n",
    "    #2. Apply Canny edge detection to detect edge outlines\n",
    "    #3. Select the region of interest to limit to roughly the extent of lane lines\n",
    "    #4a. Extract the hough lines, process the lines so that the Left Lane Line pieces are combined as 1 single solid line\n",
    "    #4b. Similarly process the Right Lane Lin pieces. This processing is done in the modified draw_lines function\n",
    "    #5. Overlay the processed Hough Lines onto the origina image\n",
    "    \n",
    "    #First convert image to HLS space, extract yellow & white lines\n",
    "    img = cv2.cvtColor(image, cv2.COLOR_RGB2HLS)\n",
    "    # white  mask\n",
    "    lower_range = np.uint8([  0, 200,   0])\n",
    "    upper_range = np.uint8([255, 255, 255])\n",
    "    white_mask = cv2.inRange(img, lower_range, upper_range)\n",
    "    # yellow  mask\n",
    "    lower_range = np.uint8([ 0,   0, 100])\n",
    "    upper_range = np.uint8([ 50, 255, 255])\n",
    "    yellow_mask = cv2.inRange(img, lower_range, upper_range)\n",
    "    # combine  masks\n",
    "    mask = cv2.bitwise_or(white_mask, yellow_mask)\n",
    "    final_mask = cv2.bitwise_and(image, image, mask = mask)\n",
    "    \n",
    "    gray=grayscale(final_mask)\n",
    "    low_threshold=50\n",
    "    high_threshold=150\n",
    "\n",
    "    #Gaussian blur\n",
    "    kernel_size=13\n",
    "    gauss_blur= gaussian_blur(gray, kernel_size)\n",
    "\n",
    "    canny_img=canny(gray, low_threshold, high_threshold)\n",
    "    \n",
    "    #Triangle defines the location of the lane lines\n",
    "    left_bottom = [0, 539]\n",
    "    right_bottom = [900, 539]\n",
    "    apex = [500, 300]\n",
    "\n",
    "    roi=region_of_interest(img=canny_img,vertices=np.array([ [left_bottom,right_bottom,apex] ], np.int32))\n",
    "    # Pipeline step #3: Find lines using Hough transform\n",
    "    hough_img=hough_lines(img=roi,max_line_gap=100,min_line_len=40,rho=2,theta=np.pi/180,threshold=45)\n",
    "    #line_img=draw_lines(hough_img, lines, color=[255, 0, 0], thickness=2)\n",
    "    \n",
    "    # Pipeline step #4: Overlay the detected hough lines with the original image\n",
    "    final_image = weighted_img(hough_img, image)\n",
    "    \n",
    "    return final_image"
   ]
  },
  {
   "cell_type": "code",
   "execution_count": 98,
   "metadata": {},
   "outputs": [],
   "source": [
    "def select_color(image,threshold):\n",
    "    # Read in the image\n",
    "    #image = mpimg.imread('./test_images/solidWhiteCurve.jpg')\n",
    "\n",
    "    # Grab the x and y size and make a copy of the image\n",
    "    ysize = image.shape[0]\n",
    "    xsize = image.shape[1]\n",
    "    color_select = np.copy(image)\n",
    "\n",
    "    # Define color selection criteria\n",
    "    ###### MODIFY THESE VARIABLES TO MAKE YOUR COLOR SELECTION\n",
    "    red_threshold = threshold\n",
    "    green_threshold = threshold\n",
    "    blue_threshold = threshold\n",
    "    ######\n",
    "\n",
    "    rgb_threshold = [red_threshold, green_threshold, blue_threshold]\n",
    "\n",
    "    # Do a boolean or with the \"|\" character to identify\n",
    "    # pixels below the thresholds\n",
    "    thresholds = (image[:,:,0] < rgb_threshold[0]) \\\n",
    "                | (image[:,:,1] < rgb_threshold[1]) \\\n",
    "                | (image[:,:,2] < rgb_threshold[2])\n",
    "    color_select[thresholds] = [0,0,0]\n",
    "\n",
    "    #plt.subplot(1,2,1)\n",
    "    #plt.imshow(image)\n",
    "    #plt.subplot(1,2,2)                \n",
    "    #plt.imshow(color_select)\n",
    "    return color_select"
   ]
  },
  {
   "cell_type": "code",
   "execution_count": 215,
   "metadata": {},
   "outputs": [
    {
     "data": {
      "image/png": "[encoded data removed]",
      "text/plain": [
       "<matplotlib.figure.Figure at 0x1179d7fd0>"
      ]
     },
     "metadata": {},
     "output_type": "display_data"
    }
   ],
   "source": [
    "###THIS SNIPPET TESTS THE PIPELINE ON ALL THE TEST IMAGES, PLOTS THEM IN AN ARRAY\n",
    "# Each row represents the process pipelines steps for each image and the final outut in the last column\n",
    "# Note: the parameters for the Hough Transform, etc were heuristically chosen by trail and error\n",
    "\n",
    "# TODO: Build your pipeline that will draw lane lines on the test_images\n",
    "# then save them to the test_images_output directory.\n",
    "\n",
    "    \n",
    "# Pipeline step 1: Take an image, convert to grayscale\n",
    "test_images = [mpimg.imread('test_images/' + i) for i in os.listdir('test_images/')]\n",
    "test_images_names=[i for i in os.listdir('test_images/')]\n",
    "test_images_rows=len(test_images)\n",
    "test_images_cols=4\n",
    "image_no=0\n",
    "plot_row=0\n",
    "for test_image in test_images:\n",
    "    image=test_image\n",
    "    plt.subplot(test_images_rows,test_images_cols,1+plot_row)\n",
    "    plt.imshow(image, cmap='gray')\n",
    "    \n",
    "    # Read in the image\n",
    "    #image = mpimg.imread('/Users/nileshshah/SelfDrivingCarEngineerUdacity/Term1_Assignments/CarND-LaneLines-P1/test_images/whiteCarLaneSwitch.jpg')\n",
    "\n",
    "    #Convert to grayscale\n",
    "    gray=grayscale(image)\n",
    "\n",
    "    # Display the image  \n",
    "    #plt.imshow(gray, cmap='gray')\n",
    "\n",
    "    # Pipeline step #3: Detect edges using Canny edge detector, but first apply gaussian blur so the not-so-strong edges are suppressed\n",
    "    low_threshold=50\n",
    "    high_threshold=150\n",
    "\n",
    "    #Gaussian blur\n",
    "    kernel_size=5\n",
    "    gauss_blur= gaussian_blur(gray, kernel_size)\n",
    "\n",
    "    canny_img=canny(gray, low_threshold, high_threshold)\n",
    "    \n",
    "    plt.subplot(test_images_rows,test_images_cols,2+plot_row)\n",
    "    plt.imshow(canny_img, cmap='gray')\n",
    "    # Pipeline step #2: Identify  regions that are not of interest\n",
    "    # Define the vertices of a triangular mask.\n",
    "    #  origin (x=0, y=0) is in the upper left\n",
    "    #Triangle defines the location of the lane lines\n",
    "    left_bottom = [130, 539]\n",
    "    right_bottom = [900, 539]\n",
    "    apex = [500, 300]\n",
    "\n",
    "    roi=region_of_interest(img=canny_img,vertices=np.array([ [left_bottom,right_bottom,apex] ], np.int32))\n",
    "    #plt.subplot(test_images_rows,test_images_cols,2+plot_row)\n",
    "    #plt.imshow(roi, cmap='gray')\n",
    "\n",
    "    # Pipeline step #3: Find lines using Hough transform\n",
    "    hough_img=hough_lines(img=roi,max_line_gap=100,min_line_len=40,rho=2,theta=np.pi/180,threshold=45)\n",
    "    plt.subplot(test_images_rows,test_images_cols,3+plot_row)\n",
    "    plt.imshow(hough_img, cmap='gray')\n",
    "    # Pipeline step #4: Overlay the detected hough lines with the original image\n",
    "    final_image = weighted_img(hough_img, image)\n",
    "    ## Plot final image\n",
    "    plt.subplot(test_images_rows,test_images_cols,4+plot_row)\n",
    "    plt.imshow(final_image)\n",
    "    plot_row=plot_row+4\n",
    "    output_image='./Solutions/' + test_images_names[image_no]\n",
    "    image_no=image_no+1\n",
    "    plt.imsave(output_image,final_image)"
   ]
  },
  {
   "cell_type": "code",
   "execution_count": 211,
   "metadata": {},
   "outputs": [
    {
     "name": "stdout",
     "output_type": "stream",
     "text": [
      "[MoviePy] >>>> Building video ./solidWhiteRightOUTPUT.mp4\n",
      "[MoviePy] Writing video ./solidWhiteRightOUTPUT.mp4\n"
     ]
    },
    {
     "name": "stderr",
     "output_type": "stream",
     "text": [
      "100%|█████████▉| 221/222 [00:06<00:00, 33.33it/s]\n"
     ]
    },
    {
     "name": "stdout",
     "output_type": "stream",
     "text": [
      "[MoviePy] Done.\n",
      "[MoviePy] >>>> Video ready: ./solidWhiteRightOUTPUT.mp4 \n",
      "\n",
      "CPU times: user 4.66 s, sys: 915 ms, total: 5.57 s\n",
      "Wall time: 7.37 s\n"
     ]
    }
   ],
   "source": [
    "# This snippet tests the processing pipeline on videos\n",
    "\n",
    "# Import everything needed to edit/save/watch video clips\n",
    "from moviepy.editor import VideoFileClip\n",
    "from IPython.display import HTML\n",
    "def process_image(image):\n",
    "    # NOTE: The output you return should be a color image (3 channel) for processing video below\n",
    "    # TODO: put your pipeline here,\n",
    "    # you should return the final output (image where lines are drawn on lanes)\n",
    "    result = detect_lane_lines(image)\n",
    "    #print(result.shape)\n",
    "    return result\n",
    "\n",
    "white_output = './solidWhiteRightOUTPUT.mp4'\n",
    "clip1 = VideoFileClip(\"./test_videos/solidWhiteRight.mp4\")\n",
    "white_clip = clip1.fl_image(process_image) #NOTE: this function expects color images!!\n",
    "%time white_clip.write_videofile(white_output, audio=False)\n",
    "\n",
    "#yellow_output = './solidYellowLeftOUTPUT.mp4'\n",
    "#clip2 = VideoFileClip(\"./test_videos/solidYellowLeft.mp4\")\n",
    "#yellow_clip = clip2.fl_image(process_image) #NOTE: this function expects color images!!\n",
    "#%time yellow_clip.write_videofile(yellow_output, audio=False)\n",
    "\n",
    "#challenge_output = './challengeOUTPUT.mp4'\n",
    "#clip3 = VideoFileClip(\"./test_videos/challenge.mp4\")\n",
    "#challenge_clip = clip3.fl_image(process_image) #NOTE: this function expects color images!!\n",
    "#%time challenge_clip.write_videofile(challenge_output, audio=False)\n",
    "\n"
   ]
  },
  {
   "cell_type": "code",
   "execution_count": 212,
   "metadata": {},
   "outputs": [
    {
     "data": {
      "text/html": [
       "\n",
       "<video width=\"960\" height=\"540\" controls>\n",
       "  <source src=\"./solidWhiteRightOUTPUT.mp4\">\n",
       "</video>\n"
      ],
      "text/plain": [
       "<IPython.core.display.HTML object>"
      ]
     },
     "execution_count": 212,
     "metadata": {},
     "output_type": "execute_result"
    }
   ],
   "source": [
    "%matplotlib inline\n",
    "HTML(\"\"\"\n",
    "<video width=\"960\" height=\"540\" controls>\n",
    "  <source src=\"./solidWhiteRightOUTPUT.mp4\">\n",
    "</video>\n",
    "\"\"\")\n"
   ]
  },
  {
   "cell_type": "code",
   "execution_count": 213,
   "metadata": {},
   "outputs": [
    {
     "name": "stdout",
     "output_type": "stream",
     "text": [
      "[MoviePy] >>>> Building video ./solidYellowLeftOUTPUT.mp4\n",
      "[MoviePy] Writing video ./solidYellowLeftOUTPUT.mp4\n"
     ]
    },
    {
     "name": "stderr",
     "output_type": "stream",
     "text": [
      "100%|█████████▉| 681/682 [00:21<00:00, 32.42it/s]\n"
     ]
    },
    {
     "name": "stdout",
     "output_type": "stream",
     "text": [
      "[MoviePy] Done.\n",
      "[MoviePy] >>>> Video ready: ./solidYellowLeftOUTPUT.mp4 \n",
      "\n",
      "CPU times: user 14.9 s, sys: 2.68 s, total: 17.5 s\n",
      "Wall time: 21.7 s\n"
     ]
    }
   ],
   "source": [
    "yellow_output = './solidYellowLeftOUTPUT.mp4'\n",
    "clip2 = VideoFileClip(\"./test_videos/solidYellowLeft.mp4\")\n",
    "yellow_clip = clip2.fl_image(process_image) #NOTE: this function expects color images!!\n",
    "%time yellow_clip.write_videofile(yellow_output, audio=False)\n"
   ]
  },
  {
   "cell_type": "code",
   "execution_count": 214,
   "metadata": {},
   "outputs": [
    {
     "data": {
      "text/html": [
       "\n",
       "<video width=\"960\" height=\"540\" controls>\n",
       "  <source src=\"./solidYellowLeftOUTPUT.mp4\">\n",
       "</video>\n"
      ],
      "text/plain": [
       "<IPython.core.display.HTML object>"
      ]
     },
     "execution_count": 214,
     "metadata": {},
     "output_type": "execute_result"
    }
   ],
   "source": [
    "%matplotlib inline\n",
    "HTML(\"\"\"\n",
    "<video width=\"960\" height=\"540\" controls>\n",
    "  <source src=\"./solidYellowLeftOUTPUT.mp4\">\n",
    "</video>\n",
    "\"\"\")\n"
   ]
  },
  {
   "cell_type": "code",
   "execution_count": 190,
   "metadata": {},
   "outputs": [
    {
     "name": "stdout",
     "output_type": "stream",
     "text": [
      "[MoviePy] >>>> Building video ./challengeOUTPUT.mp4\n",
      "[MoviePy] Writing video ./challengeOUTPUT.mp4\n"
     ]
    },
    {
     "name": "stderr",
     "output_type": "stream",
     "text": [
      "100%|██████████| 251/251 [00:16<00:00, 15.94it/s]\n"
     ]
    },
    {
     "name": "stdout",
     "output_type": "stream",
     "text": [
      "[MoviePy] Done.\n",
      "[MoviePy] >>>> Video ready: ./challengeOUTPUT.mp4 \n",
      "\n",
      "CPU times: user 10.3 s, sys: 2.51 s, total: 12.8 s\n",
      "Wall time: 18.5 s\n"
     ]
    }
   ],
   "source": [
    "challenge_output = './challengeOUTPUT.mp4'\n",
    "clip3 = VideoFileClip(\"./test_videos/challenge.mp4\")\n",
    "challenge_clip = clip3.fl_image(process_image) #NOTE: this function expects color images!!\n",
    "%time challenge_clip.write_videofile(challenge_output, audio=False)"
   ]
  },
  {
   "cell_type": "code",
   "execution_count": 191,
   "metadata": {},
   "outputs": [
    {
     "data": {
      "text/html": [
       "\n",
       "<video width=\"960\" height=\"540\" controls>\n",
       "  <source src=\"./challengeOUTPUT.mp4\">\n",
       "</video>\n"
      ],
      "text/plain": [
       "<IPython.core.display.HTML object>"
      ]
     },
     "execution_count": 191,
     "metadata": {},
     "output_type": "execute_result"
    }
   ],
   "source": [
    "%matplotlib inline\n",
    "\n",
    "HTML(\"\"\"\n",
    "<video width=\"960\" height=\"540\" controls>\n",
    "  <source src=\"./challengeOUTPUT.mp4\">\n",
    "</video>\n",
    "\"\"\")\n"
   ]
  },
  {
   "cell_type": "code",
   "execution_count": 77,
   "metadata": {},
   "outputs": [
    {
     "name": "stdout",
     "output_type": "stream",
     "text": [
      "[MoviePy] >>>> Building video ./challengeOUTPUT.mp4\n",
      "[MoviePy] Writing video ./challengeOUTPUT.mp4\n"
     ]
    },
    {
     "name": "stderr",
     "output_type": "stream",
     "text": [
      "100%|██████████| 251/251 [00:16<00:00, 15.09it/s]\n"
     ]
    },
    {
     "name": "stdout",
     "output_type": "stream",
     "text": [
      "[MoviePy] Done.\n",
      "[MoviePy] >>>> Video ready: ./challengeOUTPUT.mp4 \n",
      "\n",
      "CPU times: user 8.01 s, sys: 1.73 s, total: 9.74 s\n",
      "Wall time: 18.1 s\n"
     ]
    }
   ],
   "source": [
    "challenge_output = './challengeOUTPUT.mp4'\n",
    "clip3 = VideoFileClip(\"./test_videos/challenge.mp4\")\n",
    "challenge_clip = clip3.fl_image(process_image) #NOTE: this function expects color images!!\n",
    "%time challenge_clip.write_videofile(challenge_output, audio=False)"
   ]
  },
  {
   "cell_type": "code",
   "execution_count": 80,
   "metadata": {},
   "outputs": [
    {
     "data": {
      "text/plain": [
       "<matplotlib.image.AxesImage at 0x11d4d9c88>"
      ]
     },
     "execution_count": 80,
     "metadata": {},
     "output_type": "execute_result"
    },
    {
     "data": {
      "image/png": "[encoded data removed]",
      "text/plain": [
       "<matplotlib.figure.Figure at 0x12b6cc4e0>"
      ]
     },
     "metadata": {},
     "output_type": "display_data"
    }
   ],
   "source": [
    "import matplotlib.pyplot as plt\n",
    "import matplotlib.image as mpimg\n",
    "import numpy as np\n",
    "\n",
    "# Read in the image\n",
    "image = mpimg.imread('./test_images/solidWhiteCurve.jpg')\n",
    "\n",
    "# Grab the x and y size and make a copy of the image\n",
    "ysize = image.shape[0]\n",
    "xsize = image.shape[1]\n",
    "color_select = np.copy(image)\n",
    "\n",
    "# Define color selection criteria\n",
    "###### MODIFY THESE VARIABLES TO MAKE YOUR COLOR SELECTION\n",
    "red_threshold = 200\n",
    "green_threshold = 200\n",
    "blue_threshold = 200\n",
    "######\n",
    "\n",
    "rgb_threshold = [red_threshold, green_threshold, blue_threshold]\n",
    "\n",
    "# Do a boolean or with the \"|\" character to identify\n",
    "# pixels below the thresholds\n",
    "thresholds = (image[:,:,0] < rgb_threshold[0]) \\\n",
    "            | (image[:,:,1] < rgb_threshold[1]) \\\n",
    "            | (image[:,:,2] < rgb_threshold[2])\n",
    "color_select[thresholds] = [0,0,0]\n",
    "\n",
    "plt.subplot(1,2,1)\n",
    "plt.imshow(image)\n",
    "plt.subplot(1,2,2)                \n",
    "plt.imshow(color_select)\n"
   ]
  },
  {
   "cell_type": "code",
   "execution_count": 174,
   "metadata": {},
   "outputs": [
    {
     "data": {
      "text/plain": [
       "<matplotlib.image.AxesImage at 0x12cc27198>"
      ]
     },
     "execution_count": 174,
     "metadata": {},
     "output_type": "execute_result"
    },
    {
     "data": {
      "image/png": "[encoded data removed]",
      "text/plain": [
       "<matplotlib.figure.Figure at 0x126aa4400>"
      ]
     },
     "metadata": {},
     "output_type": "display_data"
    }
   ],
   "source": [
    "image = mpimg.imread('./test_images/solidWhiteRight.jpg')\n",
    "# define color bundaries for white & yellow in HLS space\n",
    "def select_white_yellow(image):\n",
    "    img = cv2.cvtColor(image, cv2.COLOR_RGB2HLS)\n",
    "    # white  mask\n",
    "    lower_range = np.uint8([  0, 200,   0])\n",
    "    upper_range = np.uint8([255, 255, 255])\n",
    "    white_mask = cv2.inRange(img, lower_range, upper_range)\n",
    "    # yellow  mask\n",
    "    lower_range = np.uint8([ 0,   0, 200])\n",
    "    upper_range = np.uint8([ 0, 255, 255])\n",
    "    yellow_mask = cv2.inRange(img, lower_range, upper_range)\n",
    "    # combine  masks\n",
    "    mask = cv2.bitwise_or(white_mask, yellow_mask)\n",
    "    final_mask cv2.bitwise_and(image, image, mask = mask)\n",
    "\n",
    "white_yellow_images = select_white_yellow(image)\n",
    "cmap=None\n",
    "cmap = 'gray' if len(image.shape)==2 else cmap\n",
    "plt.imshow(white_yellow_images,cmap)    "
   ]
  },
  {
   "cell_type": "markdown",
   "metadata": {},
   "source": [
    "0.6*539"
   ]
  },
  {
   "cell_type": "code",
   "execution_count": 196,
   "metadata": {},
   "outputs": [
    {
     "data": {
      "text/plain": [
       "323.4"
      ]
     },
     "execution_count": 196,
     "metadata": {},
     "output_type": "execute_result"
    }
   ],
   "source": [
    "539*.6"
   ]
  },
  {
   "cell_type": "code",
   "execution_count": 198,
   "metadata": {},
   "outputs": [],
   "source": [
    "x=4;t=6"
   ]
  },
  {
   "cell_type": "code",
   "execution_count": 199,
   "metadata": {},
   "outputs": [
    {
     "data": {
      "text/plain": [
       "6"
      ]
     },
     "execution_count": 199,
     "metadata": {},
     "output_type": "execute_result"
    }
   ],
   "source": [
    "t"
   ]
  },
  {
   "cell_type": "code",
   "execution_count": 200,
   "metadata": {},
   "outputs": [
    {
     "name": "stdout",
     "output_type": "stream",
     "text": [
      "ok\n"
     ]
    }
   ],
   "source": [
    "if x>5 or t<10:\n",
    "    print('ok')"
   ]
  },
  {
   "cell_type": "code",
   "execution_count": 209,
   "metadata": {},
   "outputs": [
    {
     "data": {
      "text/plain": [
       "array([15, 10])"
      ]
     },
     "execution_count": 209,
     "metadata": {},
     "output_type": "execute_result"
    }
   ],
   "source": [
    "np.dot((3,2),5)"
   ]
  },
  {
   "cell_type": "code",
   "execution_count": null,
   "metadata": {},
   "outputs": [],
   "source": []
  }
 ],
 "metadata": {
  "kernelspec": {
   "display_name": "Python 3",
   "language": "python",
   "name": "python3"
  },
  "language_info": {
   "codemirror_mode": {
    "name": "ipython",
    "version": 3
   },
   "file_extension": ".py",
   "mimetype": "text/x-python",
   "name": "python",
   "nbconvert_exporter": "python",
   "pygments_lexer": "ipython3",
   "version": "3.5.2"
  },
  "widgets": {
   "state": {},
   "version": "1.1.2"
  }
 },
 "nbformat": 4,
 "nbformat_minor": 2
}
